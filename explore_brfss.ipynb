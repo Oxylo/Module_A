{
 "cells": [
  {
   "cell_type": "markdown",
   "id": "crucial-participation",
   "metadata": {},
   "source": [
    "# Explore BRFSS\n",
    "Zelf aan de slag met een sample van de BRFSS dataset"
   ]
  },
  {
   "cell_type": "code",
   "execution_count": null,
   "id": "fourth-president",
   "metadata": {},
   "outputs": [],
   "source": [
    "# Importeer benodige packages \n",
    "import numpy as np\n",
    "import pandas as pd\n",
    "import matplotlib.pyplot as plt\n",
    "from os.path import join\n",
    "from scipy.stats import chi2_contingency\n",
    "plt.style.use('ggplot')"
   ]
  },
  {
   "cell_type": "markdown",
   "id": "bibliographic-vitamin",
   "metadata": {},
   "source": [
    "# Data laden"
   ]
  },
  {
   "cell_type": "code",
   "execution_count": null,
   "id": "funny-leone",
   "metadata": {},
   "outputs": [],
   "source": [
    "### Pas dit aan voor je eigen machine \n",
    "data_dir = '/home/pieter/projects/brfss/data'  # Linux\n",
    "# r'C:/pieter/projects/bfrss/data'             # Windows"
   ]
  },
  {
   "cell_type": "code",
   "execution_count": null,
   "id": "synthetic-martin",
   "metadata": {},
   "outputs": [],
   "source": [
    "# BFRSS enquete data raw\n",
    "data_raw = pd.read_csv(join(data_dir, 'brfss2019_sample_raw.csv'), sep='|')\n",
    "data_raw.head()"
   ]
  },
  {
   "cell_type": "code",
   "execution_count": null,
   "id": "operational-surprise",
   "metadata": {},
   "outputs": [],
   "source": [
    "# BFRSS enquete data decoded\n",
    "data = pd.read_csv(join(data_dir, 'brfss2019_sample_decoded.csv'), sep='|')\n",
    "data.head()"
   ]
  },
  {
   "cell_type": "markdown",
   "id": "arctic-pattern",
   "metadata": {},
   "source": [
    "# Data exploreren"
   ]
  },
  {
   "cell_type": "code",
   "execution_count": null,
   "id": "recorded-railway",
   "metadata": {},
   "outputs": [],
   "source": [
    "# maak een samenvatting van alle data\n",
    "data.describe(include='all').T"
   ]
  },
  {
   "cell_type": "code",
   "execution_count": null,
   "id": "honey-emperor",
   "metadata": {},
   "outputs": [],
   "source": [
    "# Hoe zijn de respondenten verdeeld over de verschillende gezondheidscategorieen?\n",
    "100 * data.General_Health.value_counts(normalize=True)"
   ]
  },
  {
   "cell_type": "code",
   "execution_count": null,
   "id": "english-genome",
   "metadata": {},
   "outputs": [],
   "source": [
    "data.General_Health.value_counts(normalize=True).plot(kind='barh')"
   ]
  },
  {
   "cell_type": "code",
   "execution_count": null,
   "id": "stupid-revelation",
   "metadata": {},
   "outputs": [],
   "source": [
    "# Hoeveel respondenten zijn man / vrouw?\n",
    "data.Sex_of_Respondent.value_counts().plot(kind='pie')"
   ]
  },
  {
   "cell_type": "code",
   "execution_count": null,
   "id": "representative-bloom",
   "metadata": {},
   "outputs": [],
   "source": [
    "# Is hoeverre is er een relatie tussen algehele gezondheid en geslacht?\n",
    "ctab = pd.crosstab(data.General_Health, data.Sex_of_Respondent)\n",
    "display(ctab)\n",
    "chi2, p, dof, expected = chi2_contingency(ctab)\n",
    "print('p-value Chi2 test: {:5.2f}'.format(p))"
   ]
  },
  {
   "cell_type": "code",
   "execution_count": null,
   "id": "material-dutch",
   "metadata": {},
   "outputs": [],
   "source": [
    "# Hoe zijn de respondenten verdeeld over de laatste keer dat ze hun gezonheid lieten checken (\"routine checkup\")?\n",
    "100 * data.General_Health.value_counts(normalize=True)"
   ]
  },
  {
   "cell_type": "code",
   "execution_count": null,
   "id": "descending-programming",
   "metadata": {},
   "outputs": [],
   "source": [
    "# Voelen respondenten die zich beter/slechter naarmate het langer geleden is dat ze hun gezondheid lieten checken?\n",
    "ctab = pd.crosstab(data.General_Health, data.Length_of_time_since_last_routine_checkup)\n",
    "display(ctab)\n",
    "chi2, p, dof, expected = chi2_contingency(ctab)\n",
    "print('p-value Chi2 test: {:5.2f}'.format(p))"
   ]
  },
  {
   "cell_type": "code",
   "execution_count": null,
   "id": "distributed-knock",
   "metadata": {},
   "outputs": [],
   "source": [
    "# Hoe zijn de respondenten verdeeld naar huwelijkse staat?\n",
    "100 * data.Marital_Status.value_counts(normalize=True)"
   ]
  },
  {
   "cell_type": "code",
   "execution_count": null,
   "id": "worth-photography",
   "metadata": {},
   "outputs": [],
   "source": [
    "# In hoeverre is er een relatie tussen algehele gezondheid en huwelijkse staat?\n",
    "ctab = pd.crosstab(data.General_Health, data.Marital_Status)\n",
    "display(ctab)\n",
    "chi2, p, dof, expected = chi2_contingency(ctab)\n",
    "print('p-value Chi2 test: {:5.2f}'.format(p))"
   ]
  },
  {
   "cell_type": "code",
   "execution_count": null,
   "id": "cellular-exclusion",
   "metadata": {},
   "outputs": [],
   "source": [
    "# Hoe zijn de respondenten verdeeld naar Employment Status?\n",
    "100 * data.Employment_Status.value_counts(normalize=True)"
   ]
  },
  {
   "cell_type": "code",
   "execution_count": null,
   "id": "hydraulic-guitar",
   "metadata": {},
   "outputs": [],
   "source": [
    "# In hoeverre is er een verband tussen algehele gezondheid en Employment status\n",
    "ctab = pd.crosstab(data.General_Health, data.Employment_Status)\n",
    "display(ctab)\n",
    "chi2, p, dof, expected = chi2_contingency(ctab)\n",
    "print('p-value Chi2 test: {:5.2f}'.format(p))"
   ]
  },
  {
   "cell_type": "code",
   "execution_count": null,
   "id": "numerous-faith",
   "metadata": {},
   "outputs": [],
   "source": [
    "pd.DataFrame(expected).round(1)"
   ]
  },
  {
   "cell_type": "code",
   "execution_count": null,
   "id": "confident-garden",
   "metadata": {},
   "outputs": [],
   "source": [
    "# Histogram van de gewichten van de respondenten"
   ]
  },
  {
   "cell_type": "code",
   "execution_count": null,
   "id": "oriental-specific",
   "metadata": {},
   "outputs": [],
   "source": [
    "# Relatie tussen gewicht en algehele gezondheid"
   ]
  },
  {
   "cell_type": "code",
   "execution_count": null,
   "id": "demographic-might",
   "metadata": {},
   "outputs": [],
   "source": [
    "# Hoeveel roken de respondenten?"
   ]
  },
  {
   "cell_type": "code",
   "execution_count": null,
   "id": "civilian-auckland",
   "metadata": {},
   "outputs": [],
   "source": [
    "# Verband tussen algehele gezondheid en roken zichtbaar?"
   ]
  },
  {
   "cell_type": "code",
   "execution_count": null,
   "id": "indirect-earthquake",
   "metadata": {},
   "outputs": [],
   "source": [
    "# Hoeveel drinken de respondenten?"
   ]
  },
  {
   "cell_type": "code",
   "execution_count": null,
   "id": "hybrid-slope",
   "metadata": {},
   "outputs": [],
   "source": [
    "# Relatie drankgebruik met algehele gezondheid zichtbaar?"
   ]
  },
  {
   "cell_type": "code",
   "execution_count": null,
   "id": "moving-guidance",
   "metadata": {},
   "outputs": [],
   "source": [
    "# Hoeveel fruit eten de respondenten?"
   ]
  },
  {
   "cell_type": "code",
   "execution_count": null,
   "id": "crazy-mason",
   "metadata": {},
   "outputs": [],
   "source": [
    "# Relatie met algehele gezondeheid? "
   ]
  }
 ],
 "metadata": {
  "kernelspec": {
   "display_name": "Python 3",
   "language": "python",
   "name": "python3"
  },
  "language_info": {
   "codemirror_mode": {
    "name": "ipython",
    "version": 3
   },
   "file_extension": ".py",
   "mimetype": "text/x-python",
   "name": "python",
   "nbconvert_exporter": "python",
   "pygments_lexer": "ipython3",
   "version": "3.8.10"
  }
 },
 "nbformat": 4,
 "nbformat_minor": 5
}
